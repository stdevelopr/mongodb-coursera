{
 "cells": [
  {
   "cell_type": "code",
   "execution_count": 1,
   "metadata": {
    "scrolled": true
   },
   "outputs": [],
   "source": [
    "from pymongo import MongoClient\n",
    "import pymongo\n",
    "import pprint\n",
    "import re\n",
    "\n",
    "runtime_pat = re.compile(r'([0-9]+) min')\n",
    "\n",
    "# using local connection to speed up\n",
    "client = MongoClient(\"mongodb://localhost:27017\")\n",
    "db = client['analytics']\n",
    "for movie in client.analytics.mflix.find({}).limit(100):\n",
    "    fields_to_set = {}\n",
    "    fields_to_unset = {}\n",
    "    for k,v in movie.copy().items():\n",
    "        if v==\"\" or v==[\"\"]:\n",
    "#           as we are deleting items from the dict we must use the a copy to iterate\n",
    "            del movie[k]\n",
    "#             fields_to_unset[k] = \"\"\n",
    "        \n",
    "#       here we use the non empty fields\n",
    "        if 'director' in movie:\n",
    "#             mark the field to deletion as we will create a new one with different name\n",
    "            fields_to_unset['director'] = \"\"\n",
    "            fields_to_set['directors'] = movie['director'].split(',')\n",
    "        \n",
    "        imdb = {}\n",
    "        if 'imdbID' in movie:\n",
    "            fields_to_unset['imdbID'] = \"\"\n",
    "            imdb['id'] = movie['imdbID']\n",
    "        if 'imdbRating' in movie:\n",
    "            fields_to_unset['imdbRating'] = \"\"\n",
    "            imdb['rating'] = movie['imdbRating']\n",
    "        fields_to_set['imdb'] = imdb\n",
    "            \n",
    "#       here is something that we cant yet do in the aggregation framework, change type..\n",
    "        if 'runtime' in movie:\n",
    "            m = runtime_pat.match(movie['runtime'])\n",
    "            if m:\n",
    "                fields_to_set['runtime'] = int(m.group(1))\n",
    "                \n",
    "            \n",
    "            \n",
    "        updated_doc = {}\n",
    "        if fields_to_set:\n",
    "            updated_doc['$set'] = fields_to_set\n",
    "        if fields_to_unset:\n",
    "            updated_doc['$unset'] = fields_to_unset\n",
    "\n",
    "        \n",
    "\n",
    "        db.movies_updated.update_one({'_id': movie['_id']}, updated_doc, upsert=True)"
   ]
  },
  {
   "cell_type": "markdown",
   "metadata": {},
   "source": [
    "All of these update documents will be composed of two keys, a \\$set key and a \\$unset key.\n",
    "In the MongoDB query language, for update operations,\\$set has the semantics of specifying a field that you either want to add to the document in question or a field that you want to update with a new value.\n"
   ]
  }
 ],
 "metadata": {
  "kernelspec": {
   "display_name": "Python 3",
   "language": "python",
   "name": "python3"
  },
  "language_info": {
   "codemirror_mode": {
    "name": "ipython",
    "version": 3
   },
   "file_extension": ".py",
   "mimetype": "text/x-python",
   "name": "python",
   "nbconvert_exporter": "python",
   "pygments_lexer": "ipython3",
   "version": "3.6.9"
  }
 },
 "nbformat": 4,
 "nbformat_minor": 4
}
